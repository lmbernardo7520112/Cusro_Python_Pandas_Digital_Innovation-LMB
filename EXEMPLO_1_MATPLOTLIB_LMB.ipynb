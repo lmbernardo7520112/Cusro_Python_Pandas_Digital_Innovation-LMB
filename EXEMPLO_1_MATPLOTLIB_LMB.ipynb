{
  "nbformat": 4,
  "nbformat_minor": 0,
  "metadata": {
    "colab": {
      "name": "EXEMPLO-1-MATPLOTLIB-LMB.ipynb",
      "provenance": [],
      "authorship_tag": "ABX9TyPeNrGGdHwcLj5gvVRffX7V",
      "include_colab_link": true
    },
    "kernelspec": {
      "name": "python3",
      "display_name": "Python 3"
    },
    "language_info": {
      "name": "python"
    }
  },
  "cells": [
    {
      "cell_type": "markdown",
      "metadata": {
        "id": "view-in-github",
        "colab_type": "text"
      },
      "source": [
        "<a href=\"https://colab.research.google.com/github/lmbernardo7520112/Cusro_Python_Pandas_Digital_Innovation-LMB/blob/main/EXEMPLO_1_MATPLOTLIB_LMB.ipynb\" target=\"_parent\"><img src=\"https://colab.research.google.com/assets/colab-badge.svg\" alt=\"Open In Colab\"/></a>"
      ]
    },
    {
      "cell_type": "code",
      "execution_count": 2,
      "metadata": {
        "id": "FuiuqhNydNtq"
      },
      "outputs": [],
      "source": [
        "import matplotlib"
      ]
    },
    {
      "cell_type": "code",
      "source": [
        "from sklearn.datasets import make_regression\n",
        "x, y = make_regression(n_samples= 200, n_features=1, noise=30)\n",
        "import matplotlib.pyplot as plt"
      ],
      "metadata": {
        "id": "FC-5oJQFdzRv"
      },
      "execution_count": 11,
      "outputs": []
    },
    {
      "cell_type": "code",
      "source": [
        "plt.scatter(x, y)\n",
        "plt.show()"
      ],
      "metadata": {
        "colab": {
          "base_uri": "https://localhost:8080/",
          "height": 265
        },
        "id": "O64-2lSC3rg1",
        "outputId": "4b9cc1ff-070e-4fcf-d634-0a34b288ccfd"
      },
      "execution_count": 12,
      "outputs": [
        {
          "output_type": "display_data",
          "data": {
            "text/plain": [
              "<Figure size 432x288 with 1 Axes>"
            ],
            "image/png": "[encoded data removed]"
          },
          "metadata": {
            "needs_background": "light"
          }
        }
      ]
    }
  ]
}